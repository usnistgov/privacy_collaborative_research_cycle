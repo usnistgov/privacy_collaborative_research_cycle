{
 "cells": [
  {
   "cell_type": "code",
   "execution_count": 1,
   "id": "ee4989fc-5510-4f9f-88c1-7a1972bf38c6",
   "metadata": {
    "pycharm": {
     "name": "#%%\n"
    }
   },
   "outputs": [],
   "source": [
    "# %load_ext autoreload\n",
    "# %autoreload 2"
   ]
  },
  {
   "cell_type": "markdown",
   "id": "c5932a5e-9914-44df-b0bf-967f74de5250",
   "metadata": {},
   "source": [
    "### Authors:\n",
    "- [Karan Bhagat](mailto:kb.in.triangulum@gmail.com) - Developer\n",
    "- [Christine Task](mailto:christine.task@knexusresearch.com) - Project technical lead\n",
    "- [Dhruv Kapur](mailto:dhruvka@umich.edu) - Contributor"
   ]
  },
  {
   "cell_type": "markdown",
   "id": "975748b0-3d10-454d-a44e-11cd5d3d6134",
   "metadata": {
    "pycharm": {
     "name": "#%% md\n"
    }
   },
   "source": [
    "## NIST Collaborative Research Cycle (CRC)\n",
    "### Example Notebook 1: Analysing k-marginal score of deidentified datasets.\n",
    "K-marginal is an overall edit distance metric that gives us a similarity score between the target data and deidentified data. Because it uses marginals to compare distributions it can operate equally well on very sparse distributions (where the L1 norm isn't applicable); it was developed by Dr. Sergey Pogodin for the NIST Synthetic Data Challenges.  A score closer to 1000 means the two distributions are very similar and the deidentified data should have a high utility for analysis.   More information is available in the report.html files in the data-and-metrics-bundle.   \n",
    "\n",
    "Here we demonstrate using a notebook to collect k-marginal scores from the metrics results for all of the deidentified data submissions in the data and metrics archive.   We try plotting these scores as bar plots based on different algorithm properties.  Notice how wide the error bars are on the bar plots; none of these properties by itself explains the variance we see in the archive.\n",
    "#### List of topics covered in this notebook:\n",
    "0. [Setup notebook.](#nb1-section-0)\n",
    "1. [Load deid datasets index file (index.csv).](#nb1-section-1)  \n",
    "<!--    1.1 [List properties (columns) of each deid. dataset (each row) in the index dataframe (created from index.csv).](#section-1.1)  -->\n",
    "2. [Get k-marginal score for every deid dataset.](#nb1-section-2)\n",
    "3. [Plot average k-marginal score by deidentification algorithm type.](#nb1-section-3)  \n",
    "<!--    3.1 [Calculate average k-marginal score of each deidentification algorithm type.](#section-3.1)  \n",
    "   3.2 [Plot average k-marginal score of each deidentification algorithm type.](#section-3.2)   -->\n",
    "4. [Plot average k-marginal score by category of privacy approach.](#nb1-section-4)  \n",
    "<!--    4.1 [Calculate average k-marginal score of each privacy category](#section-4.1)   \n",
    "   4.2 [Plot average k-marginal score of each privacy category](#section-4.2)    -->"
   ]
  },
  {
   "cell_type": "markdown",
   "id": "9567e546-9dd0-4e26-b99d-10330544145e",
   "metadata": {
    "pycharm": {
     "name": "#%% md\n"
    }
   },
   "source": [
    "<a id=\"nb1-section-0\"></a>\n",
    "## Setup notebook."
   ]
  },
  {
   "cell_type": "markdown",
   "id": "4376cef0-90a1-42c8-9ef7-75a3c12e09ed",
   "metadata": {
    "pycharm": {
     "name": "#%% md\n"
    }
   },
   "source": [
    "### Import required libraries"
   ]
  },
  {
   "cell_type": "code",
   "execution_count": 2,
   "id": "2a0d5dbf-0ec6-4c2a-b0cb-3119e8db9fee",
   "metadata": {
    "pycharm": {
     "name": "#%%\n"
    }
   },
   "outputs": [],
   "source": [
    "# import required libraries\n",
    "from pathlib import Path  # for creating paths for the filesystem operations\n",
    "import os  # for filesystem operations\n",
    "import pandas as pd  # for tabular data operations\n",
    "import numpy as np  # for tabular data operations\n",
    "import matplotlib.pyplot as plt  # for plotting data as charts\n",
    "import json"
   ]
  },
  {
   "cell_type": "markdown",
   "id": "8b0e9240-e81f-420d-9082-480aad6d1397",
   "metadata": {
    "pycharm": {
     "name": "#%% md\n"
    }
   },
   "source": [
    "### Import local libraries present in libs package"
   ]
  },
  {
   "cell_type": "code",
   "execution_count": 3,
   "id": "abb5afbe-b345-411a-a9bd-a498510b01f1",
   "metadata": {
    "pycharm": {
     "name": "#%%\n"
    }
   },
   "outputs": [],
   "source": [
    "# Import helper constants and functions\n",
    "# libs.util has some small utility functions\n",
    "# such has read_json, list_report etc.\n",
    "import libs.util as u\n",
    "# libs.plot module contains some helper\n",
    "# funtions to create matplotlib charts\n",
    "import libs.plot as plot\n",
    "# libs.strs contains some constant strings\n",
    "# represeting columns/feature names in index.csv file,\n",
    "# report.json file, etc.\n",
    "# Some examples of such constants: \n",
    "# LIBRARY_NAME, ALOGIRTHM_NAME, TARGET_DATASETetc.\n",
    "from libs.strs import *\n",
    "# lib.strs provides get_colors function that can be\n",
    "# use to generate N random colors.\n",
    "import libs.color as color"
   ]
  },
  {
   "cell_type": "markdown",
   "id": "53806658-4b45-4dc7-83e4-79e0e4adf08e",
   "metadata": {
    "pycharm": {
     "name": "#%% md\n"
    }
   },
   "source": [
    "### Change Current Working Directory (CWD) to: crc_data_and_metric_bundle"
   ]
  },
  {
   "cell_type": "code",
   "execution_count": 4,
   "id": "e4940ea8-2d31-4a64-8e20-a2d3bc61bdd9",
   "metadata": {
    "pycharm": {
     "name": "#%%\n"
    }
   },
   "outputs": [
    {
     "name": "stdout",
     "output_type": "stream",
     "text": [
      "CWD Before:  /Users/karan/Documents/Knexus/NIST/SDNist/crc_acceleration_bundle_1.1/crc_data_and_metric_bundle_1.1/notebooks\n",
      "CWD After:  /Users/karan/Documents/Knexus/NIST/SDNist/crc_acceleration_bundle_1.1/crc_data_and_metric_bundle_1.1\n"
     ]
    }
   ],
   "source": [
    "print('CWD Before: ', Path.cwd())\n",
    "# get current working directory\n",
    "cwd = Path.cwd()\n",
    "# get path to the directory where is notebook is located\n",
    "notebook_dir = u.notebook_path()\n",
    "# Name of the parent directory of this notebook is crc_data_and_metric_bundle_1.0\n",
    "new_cwd = notebook_dir.parent\n",
    "# Set new current working directory path which ends in crc_data_and_metric_bundle_1.0\n",
    "os.chdir(new_cwd)\n",
    "print('CWD After: ', Path.cwd())"
   ]
  },
  {
   "cell_type": "markdown",
   "id": "fbd7f11a-b246-4533-8284-71d1a5981ceb",
   "metadata": {
    "pycharm": {
     "name": "#%% md\n"
    }
   },
   "source": [
    "  "
   ]
  },
  {
   "cell_type": "markdown",
   "id": "31bf0b67-83dc-4e03-b38f-0831d55b44ea",
   "metadata": {
    "pycharm": {
     "name": "#%% md\n"
    }
   },
   "source": [
    "   "
   ]
  },
  {
   "cell_type": "markdown",
   "id": "ad8bdfd2-e38e-4b67-ade6-286a62926c61",
   "metadata": {
    "pycharm": {
     "name": "#%% md\n"
    }
   },
   "source": [
    "<a id=\"nb1-section-1\"></a>\n",
    "## 1. Load deid datasets index file (index.csv)\n",
    "index.csv file has tabular information about the deidentified (deid) datasets created using different data-deidentification libraries and algorithms. \n",
    "#### Location of index.csv: *crc_data_and_metric_bundle_1.0/index.csv*\n",
    "#### Location of this notebook: *crc_data_and_metric_bundle_1.0/notebooks/intro.ipynb*"
   ]
  },
  {
   "cell_type": "code",
   "execution_count": 5,
   "id": "25219555-5f08-48b0-96ea-5d6087b79676",
   "metadata": {
    "pycharm": {
     "name": "#%%\n"
    }
   },
   "outputs": [],
   "source": [
    "CWD = Path.cwd()  # get current working directory path\n",
    "# Create path to the index.csv file\n",
    "INDEX_FILE_PATH = Path(CWD, 'index.csv')\n",
    "# read index csv into idx_df variable\n",
    "# idx stands for index\n",
    "idx_df = pd.read_csv(INDEX_FILE_PATH, index_col=0).reset_index(drop=True)"
   ]
  },
  {
   "cell_type": "markdown",
   "id": "7b782003-785c-45bc-a2da-1a47acf0a513",
   "metadata": {
    "pycharm": {
     "name": "#%% md\n"
    }
   },
   "source": [
    "Index data has a total of 298 different deid. datasets and each dataset has 23 different properties."
   ]
  },
  {
   "cell_type": "code",
   "execution_count": 6,
   "id": "28525270-1672-4ab6-b350-e9982b58175f",
   "metadata": {
    "pycharm": {
     "name": "#%%\n"
    }
   },
   "outputs": [
    {
     "data": {
      "text/plain": [
       "(324, 22)"
      ]
     },
     "execution_count": 6,
     "metadata": {},
     "output_type": "execute_result"
    }
   ],
   "source": [
    "# See the shape of the index dataframe.\n",
    "idx_df.shape"
   ]
  },
  {
   "cell_type": "code",
   "execution_count": 7,
   "id": "c4441a45-2a34-49d0-9fc7-517fe238942d",
   "metadata": {
    "pycharm": {
     "name": "#%%\n"
    }
   },
   "outputs": [
    {
     "data": {
      "text/html": [
       "<div>\n",
       "<style scoped>\n",
       "    .dataframe tbody tr th:only-of-type {\n",
       "        vertical-align: middle;\n",
       "    }\n",
       "\n",
       "    .dataframe tbody tr th {\n",
       "        vertical-align: top;\n",
       "    }\n",
       "\n",
       "    .dataframe thead th {\n",
       "        text-align: right;\n",
       "    }\n",
       "</style>\n",
       "<table border=\"1\" class=\"dataframe\">\n",
       "  <thead>\n",
       "    <tr style=\"text-align: right;\">\n",
       "      <th></th>\n",
       "      <th>library name</th>\n",
       "      <th>algorithm name</th>\n",
       "      <th>algorithm type</th>\n",
       "      <th>target dataset</th>\n",
       "      <th>feature set name</th>\n",
       "      <th>feature space size</th>\n",
       "      <th>features list</th>\n",
       "      <th>privacy category</th>\n",
       "      <th>privacy label detail</th>\n",
       "      <th>epsilon</th>\n",
       "      <th>...</th>\n",
       "      <th>variant label detail</th>\n",
       "      <th>research papers</th>\n",
       "      <th>data path</th>\n",
       "      <th>labels path</th>\n",
       "      <th>report path</th>\n",
       "      <th>team</th>\n",
       "      <th>submission number</th>\n",
       "      <th>submission timestamp</th>\n",
       "      <th>quasi identifiers subset</th>\n",
       "      <th>deid data id</th>\n",
       "    </tr>\n",
       "  </thead>\n",
       "  <tbody>\n",
       "    <tr>\n",
       "      <th>180</th>\n",
       "      <td>smartnoise-synth</td>\n",
       "      <td>pacsynth</td>\n",
       "      <td>query matching</td>\n",
       "      <td>tx2019</td>\n",
       "      <td>industry-focused</td>\n",
       "      <td>32432400</td>\n",
       "      <td>PUMA, SEX, MSP, HISP, RAC1P, OWN_RENT, INDP_CA...</td>\n",
       "      <td>dp</td>\n",
       "      <td>The pac-synth synthesizer will suppress margin...</td>\n",
       "      <td>1.0</td>\n",
       "      <td>...</td>\n",
       "      <td>NaN</td>\n",
       "      <td>https://github.com/microsoft/synthetic-data-sh...</td>\n",
       "      <td>deid_data/smartnoise_pacsynth/tx/pac_synth_e_1...</td>\n",
       "      <td>deid_data/smartnoise_pacsynth/tx/pac_synth_e_1...</td>\n",
       "      <td>deid_data/smartnoise_pacsynth/tx/report_pac_sy...</td>\n",
       "      <td>CRC</td>\n",
       "      <td>NaN</td>\n",
       "      <td>5/20/2023 00:00:00</td>\n",
       "      <td>NaN</td>\n",
       "      <td>00083665bddad26c4ea569f7787651e6868bb235</td>\n",
       "    </tr>\n",
       "    <tr>\n",
       "      <th>220</th>\n",
       "      <td>subsample_40pcnt</td>\n",
       "      <td>subsample_40pcnt</td>\n",
       "      <td>sdc</td>\n",
       "      <td>ma2019</td>\n",
       "      <td>demographic-focused</td>\n",
       "      <td>227026800</td>\n",
       "      <td>AGEP, SEX, MSP, RAC1P, HOUSING_TYPE, OWN_RENT,...</td>\n",
       "      <td>sdc</td>\n",
       "      <td>A simple uniform random 40% subsample of the t...</td>\n",
       "      <td>NaN</td>\n",
       "      <td>...</td>\n",
       "      <td>NaN</td>\n",
       "      <td>https://www.census.gov/content/dam/Census/libr...</td>\n",
       "      <td>deid_data/subsample_40pcnt/ma/subsample_40pcnt...</td>\n",
       "      <td>deid_data/subsample_40pcnt/ma/subsample_40pcnt...</td>\n",
       "      <td>deid_data/subsample_40pcnt/ma/report_subsample...</td>\n",
       "      <td>CRC</td>\n",
       "      <td>NaN</td>\n",
       "      <td>5/20/2023 00:00:00</td>\n",
       "      <td>NaN</td>\n",
       "      <td>08b95430a7a380eb6325932a0a3ab6174a93e36c</td>\n",
       "    </tr>\n",
       "    <tr>\n",
       "      <th>146</th>\n",
       "      <td>smartnoise-synth</td>\n",
       "      <td>mst</td>\n",
       "      <td>stat model</td>\n",
       "      <td>tx2019</td>\n",
       "      <td>demographic-focused</td>\n",
       "      <td>113513400</td>\n",
       "      <td>AGEP, SEX, MSP, RAC1P, HOUSING_TYPE, OWN_RENT,...</td>\n",
       "      <td>dp</td>\n",
       "      <td>Differentially private synthetic data.  From M...</td>\n",
       "      <td>10.0</td>\n",
       "      <td>...</td>\n",
       "      <td>NaN</td>\n",
       "      <td>https://doi.org/10.48550/arXiv.2108.04978</td>\n",
       "      <td>deid_data/smartnoise_mst/tx/mst_e_10_demograph...</td>\n",
       "      <td>deid_data/smartnoise_mst/tx/mst_e_10_demograph...</td>\n",
       "      <td>deid_data/smartnoise_mst/tx/report_mst_e_10_de...</td>\n",
       "      <td>CRC</td>\n",
       "      <td>NaN</td>\n",
       "      <td>5/20/2023 00:00:00</td>\n",
       "      <td>NaN</td>\n",
       "      <td>971c6b24ddbbad3a55ef378951cdecb4986e0cc4</td>\n",
       "    </tr>\n",
       "    <tr>\n",
       "      <th>42</th>\n",
       "      <td>rsynthpop</td>\n",
       "      <td>catall</td>\n",
       "      <td>histogram</td>\n",
       "      <td>national2019</td>\n",
       "      <td>demographic-focused</td>\n",
       "      <td>227026800</td>\n",
       "      <td>AGEP, SEX, MSP, RAC1P, HOUSING_TYPE, OWN_RENT,...</td>\n",
       "      <td>dp</td>\n",
       "      <td>The DP versions are differentially private con...</td>\n",
       "      <td>1.0</td>\n",
       "      <td>...</td>\n",
       "      <td>NaN</td>\n",
       "      <td>https://doi.org/10.48550/arXiv.2206.01362</td>\n",
       "      <td>deid_data/rsynthpop_catall_Rsynthpop-categoric...</td>\n",
       "      <td>deid_data/rsynthpop_catall_Rsynthpop-categoric...</td>\n",
       "      <td>deid_data/rsynthpop_catall_Rsynthpop-categoric...</td>\n",
       "      <td>Rsynthpop-categorical</td>\n",
       "      <td>1.0</td>\n",
       "      <td>5/8/2023 6:58:34</td>\n",
       "      <td>NaN</td>\n",
       "      <td>5cc4aac8ecfa028ceb331023a7cee33496d8d96e</td>\n",
       "    </tr>\n",
       "    <tr>\n",
       "      <th>257</th>\n",
       "      <td>synthcity</td>\n",
       "      <td>bayesian_network</td>\n",
       "      <td>stat model</td>\n",
       "      <td>national2019</td>\n",
       "      <td>family-focused</td>\n",
       "      <td>498960000000</td>\n",
       "      <td>PUMA, AGEP, SEX, MSP, HISP, RAC1P, NOC, NPF, O...</td>\n",
       "      <td>non_dp</td>\n",
       "      <td>The method represents a set of random variable...</td>\n",
       "      <td>NaN</td>\n",
       "      <td>...</td>\n",
       "      <td>added a column target to the original dataset ...</td>\n",
       "      <td>https://doi.org/10.1016/j.trc.2015.10.010</td>\n",
       "      <td>deid_data/synthcity_bayesian_network/national/...</td>\n",
       "      <td>deid_data/synthcity_bayesian_network/national/...</td>\n",
       "      <td>deid_data/synthcity_bayesian_network/national/...</td>\n",
       "      <td>CRC</td>\n",
       "      <td>NaN</td>\n",
       "      <td>5/20/2023 00:00:00</td>\n",
       "      <td>NaN</td>\n",
       "      <td>b5c9490bcee54f1c35385a6377d44ad87ad2d001</td>\n",
       "    </tr>\n",
       "  </tbody>\n",
       "</table>\n",
       "<p>5 rows × 22 columns</p>\n",
       "</div>"
      ],
      "text/plain": [
       "         library name    algorithm name  algorithm type target dataset  \\\n",
       "180  smartnoise-synth          pacsynth  query matching         tx2019   \n",
       "220  subsample_40pcnt  subsample_40pcnt             sdc         ma2019   \n",
       "146  smartnoise-synth               mst      stat model         tx2019   \n",
       "42          rsynthpop            catall       histogram   national2019   \n",
       "257         synthcity  bayesian_network      stat model   national2019   \n",
       "\n",
       "        feature set name feature space size  \\\n",
       "180     industry-focused           32432400   \n",
       "220  demographic-focused          227026800   \n",
       "146  demographic-focused          113513400   \n",
       "42   demographic-focused          227026800   \n",
       "257       family-focused       498960000000   \n",
       "\n",
       "                                         features list privacy category  \\\n",
       "180  PUMA, SEX, MSP, HISP, RAC1P, OWN_RENT, INDP_CA...               dp   \n",
       "220  AGEP, SEX, MSP, RAC1P, HOUSING_TYPE, OWN_RENT,...              sdc   \n",
       "146  AGEP, SEX, MSP, RAC1P, HOUSING_TYPE, OWN_RENT,...               dp   \n",
       "42   AGEP, SEX, MSP, RAC1P, HOUSING_TYPE, OWN_RENT,...               dp   \n",
       "257  PUMA, AGEP, SEX, MSP, HISP, RAC1P, NOC, NPF, O...           non_dp   \n",
       "\n",
       "                                  privacy label detail  epsilon  ...  \\\n",
       "180  The pac-synth synthesizer will suppress margin...      1.0  ...   \n",
       "220  A simple uniform random 40% subsample of the t...      NaN  ...   \n",
       "146  Differentially private synthetic data.  From M...     10.0  ...   \n",
       "42   The DP versions are differentially private con...      1.0  ...   \n",
       "257  The method represents a set of random variable...      NaN  ...   \n",
       "\n",
       "                                  variant label detail  \\\n",
       "180                                                NaN   \n",
       "220                                                NaN   \n",
       "146                                                NaN   \n",
       "42                                                 NaN   \n",
       "257  added a column target to the original dataset ...   \n",
       "\n",
       "                                       research papers  \\\n",
       "180  https://github.com/microsoft/synthetic-data-sh...   \n",
       "220  https://www.census.gov/content/dam/Census/libr...   \n",
       "146          https://doi.org/10.48550/arXiv.2108.04978   \n",
       "42           https://doi.org/10.48550/arXiv.2206.01362   \n",
       "257          https://doi.org/10.1016/j.trc.2015.10.010   \n",
       "\n",
       "                                             data path  \\\n",
       "180  deid_data/smartnoise_pacsynth/tx/pac_synth_e_1...   \n",
       "220  deid_data/subsample_40pcnt/ma/subsample_40pcnt...   \n",
       "146  deid_data/smartnoise_mst/tx/mst_e_10_demograph...   \n",
       "42   deid_data/rsynthpop_catall_Rsynthpop-categoric...   \n",
       "257  deid_data/synthcity_bayesian_network/national/...   \n",
       "\n",
       "                                           labels path  \\\n",
       "180  deid_data/smartnoise_pacsynth/tx/pac_synth_e_1...   \n",
       "220  deid_data/subsample_40pcnt/ma/subsample_40pcnt...   \n",
       "146  deid_data/smartnoise_mst/tx/mst_e_10_demograph...   \n",
       "42   deid_data/rsynthpop_catall_Rsynthpop-categoric...   \n",
       "257  deid_data/synthcity_bayesian_network/national/...   \n",
       "\n",
       "                                           report path                   team  \\\n",
       "180  deid_data/smartnoise_pacsynth/tx/report_pac_sy...                    CRC   \n",
       "220  deid_data/subsample_40pcnt/ma/report_subsample...                    CRC   \n",
       "146  deid_data/smartnoise_mst/tx/report_mst_e_10_de...                    CRC   \n",
       "42   deid_data/rsynthpop_catall_Rsynthpop-categoric...  Rsynthpop-categorical   \n",
       "257  deid_data/synthcity_bayesian_network/national/...                    CRC   \n",
       "\n",
       "    submission number submission timestamp  quasi identifiers subset  \\\n",
       "180               NaN   5/20/2023 00:00:00                       NaN   \n",
       "220               NaN   5/20/2023 00:00:00                       NaN   \n",
       "146               NaN   5/20/2023 00:00:00                       NaN   \n",
       "42                1.0     5/8/2023 6:58:34                       NaN   \n",
       "257               NaN   5/20/2023 00:00:00                       NaN   \n",
       "\n",
       "                                 deid data id  \n",
       "180  00083665bddad26c4ea569f7787651e6868bb235  \n",
       "220  08b95430a7a380eb6325932a0a3ab6174a93e36c  \n",
       "146  971c6b24ddbbad3a55ef378951cdecb4986e0cc4  \n",
       "42   5cc4aac8ecfa028ceb331023a7cee33496d8d96e  \n",
       "257  b5c9490bcee54f1c35385a6377d44ad87ad2d001  \n",
       "\n",
       "[5 rows x 22 columns]"
      ]
     },
     "execution_count": 7,
     "metadata": {},
     "output_type": "execute_result"
    }
   ],
   "source": [
    "# See five random rows of the index dataframe\n",
    "idx_df.sample(5)"
   ]
  },
  {
   "cell_type": "markdown",
   "id": "c1e0fe39-f3c6-459e-b3a9-e10a750d97a3",
   "metadata": {
    "pycharm": {
     "name": "#%% md\n"
    }
   },
   "source": [
    "### 1.1 Veiw available features in the index dataframe.\n",
    "List features(columns) of each deid. dataset (each row) in the index dataframe (created from index.csv). \n",
    "\n",
    "Some features inform about the method of data synthesis (features such as 'library', 'algorithm name', 'epsilon', 'variant label' etc.) and others about the location of resources (such as 'data path' path to deid dataset csv file, \n",
    "'report path' path to sdnist evaluation report of the deid dataset file etc.)"
   ]
  },
  {
   "cell_type": "code",
   "execution_count": 8,
   "id": "bdc6d109-46e1-4f6f-9935-8cd0c7765ffb",
   "metadata": {
    "pycharm": {
     "name": "#%%\n"
    }
   },
   "outputs": [
    {
     "name": "stdout",
     "output_type": "stream",
     "text": [
      "library name\n",
      "algorithm name\n",
      "algorithm type\n",
      "target dataset\n",
      "feature set name\n",
      "feature space size\n",
      "features list\n",
      "privacy category\n",
      "privacy label detail\n",
      "epsilon\n",
      "delta\n",
      "variant label\n",
      "variant label detail\n",
      "research papers\n",
      "data path\n",
      "labels path\n",
      "report path\n",
      "team\n",
      "submission number\n",
      "submission timestamp\n",
      "quasi identifiers subset\n",
      "deid data id\n"
     ]
    }
   ],
   "source": [
    "# Iterate over the columns of index dataframe\n",
    "# and print each column name\n",
    "for col in idx_df.columns:\n",
    "    print(col)"
   ]
  },
  {
   "cell_type": "code",
   "execution_count": 9,
   "id": "09aed361-a1cb-45f0-85f2-b8efbfb73f3a",
   "metadata": {
    "pycharm": {
     "name": "#%%\n"
    }
   },
   "outputs": [
    {
     "name": "stdout",
     "output_type": "stream",
     "text": [
      "\n",
      "Index Column: \n",
      "-------------\n",
      "library name\n",
      "\n",
      "\n",
      "Description:\n",
      "-----------\n",
      "Software library used for this submission, or team name if a private codebase was used\n"
     ]
    }
   ],
   "source": [
    "# Use index_feature_description function from the libs.util module.\n",
    "# index_feature_description function takes just one argument which \n",
    "# should be one of the column name available in the index file. \n",
    "# Column names are printed in the last code cell for your reference.\n",
    "u.index_feature_description(LIBRARY_NAME)"
   ]
  },
  {
   "cell_type": "markdown",
   "id": "043da554-2ae5-466b-9f3b-ea7e76ade2dd",
   "metadata": {
    "pycharm": {
     "name": "#%% md\n"
    },
    "tags": []
   },
   "source": [
    "<a id=\"nb1-section-2\"></a>\n",
    "## 2. Get k-marginal score for every deid dataset."
   ]
  },
  {
   "cell_type": "code",
   "execution_count": 10,
   "id": "cd5ba8b8-db88-410a-b531-594aeb15d292",
   "metadata": {
    "pycharm": {
     "name": "#%%\n"
    }
   },
   "outputs": [
    {
     "data": {
      "text/html": [
       "<div>\n",
       "<style scoped>\n",
       "    .dataframe tbody tr th:only-of-type {\n",
       "        vertical-align: middle;\n",
       "    }\n",
       "\n",
       "    .dataframe tbody tr th {\n",
       "        vertical-align: top;\n",
       "    }\n",
       "\n",
       "    .dataframe thead th {\n",
       "        text-align: right;\n",
       "    }\n",
       "</style>\n",
       "<table border=\"1\" class=\"dataframe\">\n",
       "  <thead>\n",
       "    <tr style=\"text-align: right;\">\n",
       "      <th></th>\n",
       "      <th>library name</th>\n",
       "      <th>algorithm name</th>\n",
       "      <th>algorithm type</th>\n",
       "      <th>privacy category</th>\n",
       "      <th>k_marginal_score</th>\n",
       "    </tr>\n",
       "  </thead>\n",
       "  <tbody>\n",
       "    <tr>\n",
       "      <th>275</th>\n",
       "      <td>synthcity</td>\n",
       "      <td>pategan</td>\n",
       "      <td>neural net</td>\n",
       "      <td>dp</td>\n",
       "      <td>785</td>\n",
       "    </tr>\n",
       "    <tr>\n",
       "      <th>299</th>\n",
       "      <td>synthcity</td>\n",
       "      <td>privbayes</td>\n",
       "      <td>stat model</td>\n",
       "      <td>dp</td>\n",
       "      <td>554</td>\n",
       "    </tr>\n",
       "    <tr>\n",
       "      <th>195</th>\n",
       "      <td>smartnoise-synth</td>\n",
       "      <td>patectgan</td>\n",
       "      <td>neural net</td>\n",
       "      <td>dp</td>\n",
       "      <td>805</td>\n",
       "    </tr>\n",
       "    <tr>\n",
       "      <th>193</th>\n",
       "      <td>smartnoise-synth</td>\n",
       "      <td>patectgan</td>\n",
       "      <td>neural net</td>\n",
       "      <td>dp</td>\n",
       "      <td>773</td>\n",
       "    </tr>\n",
       "    <tr>\n",
       "      <th>312</th>\n",
       "      <td>synthcity</td>\n",
       "      <td>tvae</td>\n",
       "      <td>neural net</td>\n",
       "      <td>non_dp</td>\n",
       "      <td>826</td>\n",
       "    </tr>\n",
       "  </tbody>\n",
       "</table>\n",
       "</div>"
      ],
      "text/plain": [
       "         library name algorithm name algorithm type privacy category  \\\n",
       "275         synthcity        pategan     neural net               dp   \n",
       "299         synthcity      privbayes     stat model               dp   \n",
       "195  smartnoise-synth      patectgan     neural net               dp   \n",
       "193  smartnoise-synth      patectgan     neural net               dp   \n",
       "312         synthcity           tvae     neural net           non_dp   \n",
       "\n",
       "     k_marginal_score  \n",
       "275               785  \n",
       "299               554  \n",
       "195               805  \n",
       "193               773  \n",
       "312               826  "
      ]
     },
     "execution_count": 10,
     "metadata": {},
     "output_type": "execute_result"
    }
   ],
   "source": [
    "# Create a new zero filled column\n",
    "idx_df[K_MARGINAL_SCORE] = np.zeros(idx_df.shape[0]).astype(int)\n",
    "\n",
    "# Iterate over each row (deid dataset) in filtered index dataframe.\n",
    "for i, row in idx_df.iterrows():\n",
    "    # Get path of the SDNIST evaluation report directory\n",
    "    # for the deid dataset in current row.\n",
    "    report_dir_path = row[REPORT_PATH]  # report directory path\n",
    "    # Create path to the report.json file in the report directory.\n",
    "    report_json_path = Path(report_dir_path, 'report.json')\n",
    "    # Read the json file at report_json_path into a \n",
    "    # python dictionary variable report_dict.\n",
    "    with open(report_json_path) as f:\n",
    "        report_dict = json.load(f)\n",
    "    # Get the k-marginal score from the report dictionary. \n",
    "    k_marg_score = report_dict[K_MARGINAL][K_MARGINAL_SYNOPSYS][K_MARGINAL_SCORE]\n",
    "    \n",
    "    # Save k-marginal score of the deid dataset in current row\n",
    "    idx_df.loc[i, K_MARGINAL_SCORE] = k_marg_score\n",
    "\n",
    "# See the five random records and \n",
    "# the new column k-marginal score which we added to \n",
    "# the filtered index dataframe just now.\n",
    "columns_to_show = [LIBRARY_NAME, ALGORITHM_NAME, ALGORITHM_TYPE, \n",
    "                   PRIVACY_CATEGORY, K_MARGINAL_SCORE]\n",
    "idx_df[columns_to_show].sample(5)"
   ]
  },
  {
   "cell_type": "markdown",
   "id": "fe542b3f-0174-42a0-bee0-4f54d6a0ac74",
   "metadata": {
    "pycharm": {
     "name": "#%% md\n"
    }
   },
   "source": [
    "  "
   ]
  },
  {
   "cell_type": "markdown",
   "id": "9d0d4f29-18e5-4edb-ae61-229bc8599003",
   "metadata": {
    "pycharm": {
     "name": "#%% md\n"
    }
   },
   "source": [
    "<a id=\"nb1-section-3\"></a>\n",
    "## 3. Plot average k-marginal score by deidentification algorithm type."
   ]
  },
  {
   "cell_type": "markdown",
   "id": "9c91fafe-90f4-4356-8a90-6379b1338f14",
   "metadata": {
    "pycharm": {
     "name": "#%% md\n"
    }
   },
   "source": [
    "<a id=\"nb1-section-3.1\"></a>\n",
    "### 3.1 Calculate average k-marginal score of each deidentification algorithm type."
   ]
  },
  {
   "cell_type": "code",
   "execution_count": 11,
   "id": "0f101e28-35bf-458a-ae8e-49566ebef2a0",
   "metadata": {},
   "outputs": [
    {
     "name": "stdout",
     "output_type": "stream",
     "text": [
      "\n",
      "Index Column: \n",
      "-------------\n",
      "algorithm type\n",
      "\n",
      "\n",
      "Description:\n",
      "-----------\n",
      "A label indicating the general category of approach as specified below\n",
      "\n",
      "sdc = 'Statistical Disclosure Control anonymization techniques-- Does direct perturbation, anonymization, redaction or generalization on individual records of target data'\n",
      "\n",
      "query matching = 'Query Matching based synthetic data techniques-- Initializes a default synthetic data distribution and iteratively updates it to mimic query results on target data, using optimization or constraint satisfaction approaches'\n",
      "\n",
      "neural net = 'Neural Network based synthetic data techniques-- Includes both GAN and Transformer Networks / Autoencoders'\n",
      "\n",
      "stat model = 'Statistical Model based synthetic data techniques-- Uses some approach, other than a neural network, to construct a model of the feature relationships in the target data and uses this model to generate new records.'\n",
      "\n",
      "histogram = 'Histogram based generation techniques-- Transforms the target data into a set of counts of record occurrences, then adds noise to these counts to produce new data.'\n",
      "\n",
      "geometric = 'Geometric based sampling techniques-- Samples new records directly from the feature space based on the geometry of the target distribution.  May involve interpolation or clustering of records in the target data.'\n"
     ]
    }
   ],
   "source": [
    "u.index_feature_description(ALGORITHM_TYPE)"
   ]
  },
  {
   "cell_type": "code",
   "execution_count": 12,
   "id": "434435fd-d3f2-44c7-9f66-30fcf56d335e",
   "metadata": {
    "pycharm": {
     "name": "#%%\n"
    }
   },
   "outputs": [
    {
     "data": {
      "text/html": [
       "<div>\n",
       "<style scoped>\n",
       "    .dataframe tbody tr th:only-of-type {\n",
       "        vertical-align: middle;\n",
       "    }\n",
       "\n",
       "    .dataframe tbody tr th {\n",
       "        vertical-align: top;\n",
       "    }\n",
       "\n",
       "    .dataframe thead th {\n",
       "        text-align: right;\n",
       "    }\n",
       "</style>\n",
       "<table border=\"1\" class=\"dataframe\">\n",
       "  <thead>\n",
       "    <tr style=\"text-align: right;\">\n",
       "      <th></th>\n",
       "      <th>algorithm type</th>\n",
       "      <th>avg_k_marginal_score</th>\n",
       "      <th>std_k_marginal_score</th>\n",
       "    </tr>\n",
       "  </thead>\n",
       "  <tbody>\n",
       "    <tr>\n",
       "      <th>0</th>\n",
       "      <td>histogram</td>\n",
       "      <td>781.750000</td>\n",
       "      <td>235.647319</td>\n",
       "    </tr>\n",
       "    <tr>\n",
       "      <th>1</th>\n",
       "      <td>neural net</td>\n",
       "      <td>647.344262</td>\n",
       "      <td>171.443110</td>\n",
       "    </tr>\n",
       "    <tr>\n",
       "      <th>2</th>\n",
       "      <td>query matching</td>\n",
       "      <td>761.220000</td>\n",
       "      <td>166.692836</td>\n",
       "    </tr>\n",
       "    <tr>\n",
       "      <th>3</th>\n",
       "      <td>sdc</td>\n",
       "      <td>804.214286</td>\n",
       "      <td>195.245553</td>\n",
       "    </tr>\n",
       "    <tr>\n",
       "      <th>4</th>\n",
       "      <td>stat model</td>\n",
       "      <td>841.630952</td>\n",
       "      <td>113.742658</td>\n",
       "    </tr>\n",
       "  </tbody>\n",
       "</table>\n",
       "</div>"
      ],
      "text/plain": [
       "   algorithm type  avg_k_marginal_score  std_k_marginal_score\n",
       "0       histogram            781.750000            235.647319\n",
       "1      neural net            647.344262            171.443110\n",
       "2  query matching            761.220000            166.692836\n",
       "3             sdc            804.214286            195.245553\n",
       "4      stat model            841.630952            113.742658"
      ]
     },
     "execution_count": 12,
     "metadata": {},
     "output_type": "execute_result"
    }
   ],
   "source": [
    "AVG_K_MARGINAL_SCORE = 'avg_k_marginal_score'\n",
    "STD_K_MARGINAL_SCORE = 'std_k_marginal_score'\n",
    "# Group column algorithm type, and take average of rows in each algorithm type.\n",
    "avg_kmarg_idx_df = idx_df[[ALGORITHM_TYPE, K_MARGINAL_SCORE]].groupby(ALGORITHM_TYPE).mean()\n",
    "\n",
    "# Compute standard deviation of k marginal score in each algorithm type to show error bars\n",
    "# in the k marginal score bar plots\n",
    "std_kmarg_idx_df = idx_df[[ALGORITHM_TYPE, K_MARGINAL_SCORE]].groupby(ALGORITHM_TYPE).std()\n",
    "\n",
    "# save standard deviation to the avg_kmarg_idx_df\n",
    "avg_kmarg_idx_df[STD_K_MARGINAL_SCORE] = std_kmarg_idx_df\n",
    "\n",
    "# algorithm type is now index of the new avg_kmarg_idx_df dataframe\n",
    "# but we move it back into the column algorithm type by\n",
    "# resetting index\n",
    "avg_kmarg_idx_df = avg_kmarg_idx_df.reset_index(level=[ALGORITHM_TYPE])\n",
    "\n",
    "# Also rename column k_marginal_score to avg_k_marginal_score\n",
    "avg_kmarg_idx_df = avg_kmarg_idx_df.rename(columns={K_MARGINAL_SCORE: AVG_K_MARGINAL_SCORE})\n",
    "# Show average k-marginal score of each algorithm type\n",
    "avg_kmarg_idx_df"
   ]
  },
  {
   "cell_type": "markdown",
   "id": "ea9fe05e-2d27-48c6-a622-6e3e7e9868b9",
   "metadata": {
    "pycharm": {
     "name": "#%% md\n"
    }
   },
   "source": [
    "<a id=\"nb1-section-3.2\"></a>\n",
    "### 3.2 Plot average k-marginal score of each deidentification algorithm type"
   ]
  },
  {
   "cell_type": "code",
   "execution_count": 13,
   "id": "052f2f15-da5a-4785-97c0-152ef6a61de1",
   "metadata": {
    "pycharm": {
     "name": "#%%\n"
    }
   },
   "outputs": [
    {
     "data": {
      "image/png": "[encoded data removed]",
      "text/plain": [
       "<Figure size 576x360 with 1 Axes>"
      ]
     },
     "metadata": {
      "needs_background": "light"
     },
     "output_type": "display_data"
    }
   ],
   "source": [
    "# Get different colors using libs.color module\n",
    "colors = color.get_colors(avg_kmarg_idx_df.shape[0])\n",
    "\n",
    "# Get unique algorithm types available in avg kmarg index data\n",
    "unique_algo_types = avg_kmarg_idx_df[ALGORITHM_TYPE].unique().tolist()\n",
    "\n",
    "# Create color map to denote different color to each\n",
    "# algorithm type\n",
    "color_map = {algo_type: colors[i] \n",
    "             for i, algo_type in enumerate(unique_algo_types)}\n",
    "\n",
    "# Use bar function in libs.plot module to plot a bar chart\n",
    "# x_axis_size is given 8 to just move bars a little bit so \n",
    "# that bars don't overlap with the legend\n",
    "plot.bar(data=avg_kmarg_idx_df, height_column=AVG_K_MARGINAL_SCORE, \n",
    "         color_by=ALGORITHM_TYPE, color_map=color_map, \n",
    "         y_err_column=STD_K_MARGINAL_SCORE, \n",
    "         x_axis_size=8,\n",
    "         y_axis_range=(400, 1000),\n",
    "         title='Average K-Marginal score by deidentification algorithm type')"
   ]
  },
  {
   "cell_type": "markdown",
   "id": "fee1f798-de02-47a2-904e-4b3bc3d03f36",
   "metadata": {
    "pycharm": {
     "name": "#%% md\n"
    }
   },
   "source": [
    "  "
   ]
  },
  {
   "cell_type": "markdown",
   "id": "5660eb1a-6c30-4070-8208-9dfb7c133752",
   "metadata": {
    "pycharm": {
     "name": "#%% md\n"
    }
   },
   "source": [
    "<a id=\"nb1-section-4\"></a>\n",
    "## 4. Plot average k-marginal score by category of privacy approach."
   ]
  },
  {
   "cell_type": "markdown",
   "id": "248358bd-6d03-4efb-b8a8-8eba5a90e631",
   "metadata": {
    "pycharm": {
     "name": "#%% md\n"
    }
   },
   "source": [
    "<a id=\"nb1-section-4.1\"></a>\n",
    "### 4.1 Calculate average k-marginal score of each privacy category"
   ]
  },
  {
   "cell_type": "code",
   "execution_count": 14,
   "id": "6f13658a-d9b2-49b1-82ab-19cb61866407",
   "metadata": {},
   "outputs": [
    {
     "name": "stdout",
     "output_type": "stream",
     "text": [
      "\n",
      "Index Column: \n",
      "-------------\n",
      "privacy category\n",
      "\n",
      "\n",
      "Description:\n",
      "-----------\n",
      "A code indicating the general category of privacy protection as specified below\n",
      "\n",
      "sdc = 'Statistical Disclosure Control'\n",
      "\n",
      "dp = 'Differential Privacy'\n",
      "\n",
      "non_dp = 'Synthetic Data (Non-differentially Private)'\n"
     ]
    }
   ],
   "source": [
    "u.index_feature_description(PRIVACY_CATEGORY)"
   ]
  },
  {
   "cell_type": "code",
   "execution_count": 15,
   "id": "e84435b4-465f-42ce-95c3-762e9458c335",
   "metadata": {
    "pycharm": {
     "name": "#%%\n"
    }
   },
   "outputs": [
    {
     "data": {
      "text/html": [
       "<div>\n",
       "<style scoped>\n",
       "    .dataframe tbody tr th:only-of-type {\n",
       "        vertical-align: middle;\n",
       "    }\n",
       "\n",
       "    .dataframe tbody tr th {\n",
       "        vertical-align: top;\n",
       "    }\n",
       "\n",
       "    .dataframe thead th {\n",
       "        text-align: right;\n",
       "    }\n",
       "</style>\n",
       "<table border=\"1\" class=\"dataframe\">\n",
       "  <thead>\n",
       "    <tr style=\"text-align: right;\">\n",
       "      <th></th>\n",
       "      <th>privacy category</th>\n",
       "      <th>avg_k_marginal_score</th>\n",
       "      <th>std_k_marginal_score</th>\n",
       "    </tr>\n",
       "  </thead>\n",
       "  <tbody>\n",
       "    <tr>\n",
       "      <th>0</th>\n",
       "      <td>dp</td>\n",
       "      <td>733.097701</td>\n",
       "      <td>181.431644</td>\n",
       "    </tr>\n",
       "    <tr>\n",
       "      <th>1</th>\n",
       "      <td>non_dp</td>\n",
       "      <td>739.957447</td>\n",
       "      <td>175.306731</td>\n",
       "    </tr>\n",
       "    <tr>\n",
       "      <th>2</th>\n",
       "      <td>sdc</td>\n",
       "      <td>804.214286</td>\n",
       "      <td>195.245553</td>\n",
       "    </tr>\n",
       "  </tbody>\n",
       "</table>\n",
       "</div>"
      ],
      "text/plain": [
       "  privacy category  avg_k_marginal_score  std_k_marginal_score\n",
       "0               dp            733.097701            181.431644\n",
       "1           non_dp            739.957447            175.306731\n",
       "2              sdc            804.214286            195.245553"
      ]
     },
     "execution_count": 15,
     "metadata": {},
     "output_type": "execute_result"
    }
   ],
   "source": [
    "# Group column privacy category, and take average of rows in each privacy category.\n",
    "avg_kmarg_idx_df = idx_df[[PRIVACY_CATEGORY, K_MARGINAL_SCORE]].groupby(PRIVACY_CATEGORY).mean()\n",
    "\n",
    "# Compute standard deviation of k marginal score in each privacy category to show error bars\n",
    "# in the k marginal score bar plots\n",
    "std_kmarg_idx_df = idx_df[[PRIVACY_CATEGORY, K_MARGINAL_SCORE]].groupby(PRIVACY_CATEGORY).std()\n",
    "\n",
    "# save standard deviation to the avg_kmarg_idx_df\n",
    "avg_kmarg_idx_df[STD_K_MARGINAL_SCORE] = std_kmarg_idx_df\n",
    "\n",
    "# privacy category is now index of the new avg_kmarg_idx_df dataframe\n",
    "# but we move it back into the column privacy category by\n",
    "# resetting index\n",
    "avg_kmarg_idx_df = avg_kmarg_idx_df.reset_index(level=[PRIVACY_CATEGORY])\n",
    "\n",
    "# Also rename column k_marginal_score to avg_k_marginal_score\n",
    "avg_kmarg_idx_df = avg_kmarg_idx_df.rename(columns={K_MARGINAL_SCORE: AVG_K_MARGINAL_SCORE})\n",
    "# Show average k-marginal score of each algorithm type\n",
    "avg_kmarg_idx_df"
   ]
  },
  {
   "cell_type": "markdown",
   "id": "34295580-4f3c-4b28-b186-761bc6158d33",
   "metadata": {
    "pycharm": {
     "name": "#%% md\n"
    }
   },
   "source": [
    "<a id=\"nb1-section-4.2\"></a>\n",
    "### 4.2 Plot average k-marginal score of each privacy category"
   ]
  },
  {
   "cell_type": "code",
   "execution_count": 16,
   "id": "7c70dbff-4fac-4192-b256-805b3060b9f3",
   "metadata": {
    "pycharm": {
     "name": "#%%\n"
    }
   },
   "outputs": [
    {
     "data": {
      "image/png": "[encoded data removed]",
      "text/plain": [
       "<Figure size 576x360 with 1 Axes>"
      ]
     },
     "metadata": {
      "needs_background": "light"
     },
     "output_type": "display_data"
    }
   ],
   "source": [
    "# Get different colors using libs.color module\n",
    "colors = color.get_colors(avg_kmarg_idx_df.shape[0])\n",
    "\n",
    "# Get unique privacy categories available in avg kmarg index data\n",
    "unique_algo_types = avg_kmarg_idx_df[PRIVACY_CATEGORY].unique().tolist()\n",
    "\n",
    "# Create color map to denote different color to each\n",
    "# privacy category\n",
    "color_map = {algo_type: colors[i] \n",
    "             for i, algo_type in enumerate(unique_algo_types)}\n",
    "\n",
    "# Use bar function in libs.plot module to plot a bar chart\n",
    "# x_axis_size is given 5 to move the bars a bit to the left so \n",
    "# that bars don't overlap with the legend.\n",
    "plot.bar(data=avg_kmarg_idx_df, height_column=AVG_K_MARGINAL_SCORE, \n",
    "         color_by=PRIVACY_CATEGORY, color_map=color_map, \n",
    "         y_err_column=STD_K_MARGINAL_SCORE, x_axis_size=5,\n",
    "         y_axis_range=(400, 1000),\n",
    "         title='Average K-Marginal score by privacy category')"
   ]
  },
  {
   "cell_type": "code",
   "execution_count": null,
   "id": "699f1ee9-8299-4ac7-ac49-83eb2e4c2a6c",
   "metadata": {
    "pycharm": {
     "name": "#%%\n"
    }
   },
   "outputs": [],
   "source": []
  },
  {
   "cell_type": "code",
   "execution_count": null,
   "id": "723cb68a-f47e-4db7-a1f3-976d7d5eb823",
   "metadata": {
    "pycharm": {
     "name": "#%%\n"
    }
   },
   "outputs": [],
   "source": []
  },
  {
   "cell_type": "code",
   "execution_count": null,
   "id": "fe48919a-aab1-43d6-8ef2-cb527789f9e0",
   "metadata": {
    "pycharm": {
     "name": "#%%\n"
    }
   },
   "outputs": [],
   "source": []
  },
  {
   "cell_type": "code",
   "execution_count": null,
   "id": "07985542-caff-4c83-9479-ae7984df9ae3",
   "metadata": {
    "pycharm": {
     "name": "#%%\n"
    }
   },
   "outputs": [],
   "source": []
  }
 ],
 "metadata": {
  "kernelspec": {
   "display_name": "crc",
   "language": "python",
   "name": "crc"
  },
  "language_info": {
   "codemirror_mode": {
    "name": "ipython",
    "version": 3
   },
   "file_extension": ".py",
   "mimetype": "text/x-python",
   "name": "python",
   "nbconvert_exporter": "python",
   "pygments_lexer": "ipython3",
   "version": "3.9.12"
  }
 },
 "nbformat": 4,
 "nbformat_minor": 5
}
